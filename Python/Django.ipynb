{
 "cells": [
  {
   "cell_type": "markdown",
   "metadata": {},
   "source": [
    "# **What you can build with Django?**\n",
    "\n",
    "Instagram\n",
    "Dropbox\n"
   ]
  },
  {
   "cell_type": "markdown",
   "metadata": {},
   "source": [
    "# **Difference between a Project and App**\n",
    "\n",
    "Project holds the main logic of your project, apps are the components of the project\n",
    "\n",
    "Example school admin system, for student app, teacher app, the apps have distinct functions, focusing on different areas"
   ]
  },
  {
   "cell_type": "markdown",
   "metadata": {},
   "source": [
    "# **How to initialize a project**\n",
    "\n",
    "django-admin startproject name"
   ]
  },
  {
   "cell_type": "markdown",
   "metadata": {},
   "source": [
    "# **How to initialize an app**\n",
    "\n",
    "python manage.py startapp name"
   ]
  },
  {
   "cell_type": "markdown",
   "metadata": {},
   "source": [
    "# **How to start development sever?**\n",
    "\n",
    "python manage.py runserver"
   ]
  },
  {
   "cell_type": "markdown",
   "metadata": {},
   "source": [
    "# **what are models veiws and templates?**\n",
    "\n",
    "**models** class based representation of database tables, it represents the database structures\n",
    "\n",
    "**views** logic and implementation of responsing front operations.\n",
    "\n",
    "**templates** Django frontend html pages. programmers can use django client side code to create templates, {% %}, which makes coding more easier"
   ]
  },
  {
   "cell_type": "markdown",
   "metadata": {},
   "source": [
    "# **What are url patterns?**\n",
    "\n",
    "using url patterns to connect frontend pages or ajax calls to backend views functions\n"
   ]
  },
  {
   "cell_type": "markdown",
   "metadata": {},
   "source": [
    "# **What is Django admin panel?**\n",
    "\n",
    "a Django provided user interface to see the data of Django\n",
    "\n",
    "localhost:8000/admin"
   ]
  },
  {
   "cell_type": "markdown",
   "metadata": {},
   "source": [
    "# **makemigrations and migrate**\n",
    "\n",
    "Migrations are Django’s way of propagating changes you make to your models (adding a field, deleting a model, etc.) into your database schema.\n",
    "\n",
    "migrate apply the changes to schema"
   ]
  },
  {
   "cell_type": "markdown",
   "metadata": {},
   "source": [
    "# **CBV FBV**\n",
    "\n",
    "Doing research about them\n",
    "\n"
   ]
  },
  {
   "cell_type": "markdown",
   "metadata": {},
   "source": [
    "# **Setup database connection**\n",
    "\n",
    "Example of Postgresql:\n",
    "\n",
    "1. install postgresql, setup everything we need, like user name, password, host, post, database name...\n",
    "2. restart the postgresql service\n",
    "3. on the django side install the postgresql package, psyconpg2 for future usage\n",
    "4. write Django settings files\n",
    "\n",
    "    ```python\n",
    "    DATABASES = {\n",
    "        'default': {\n",
    "            'ENGINE': 'django.db.backends.postgresql_psycopg2',\n",
    "            'NAME': ‘<db_name>’,\n",
    "            'USER': '<db_username>',\n",
    "            'PASSWORD': '<password>',\n",
    "            'HOST': '<db_hostname_or_ip>',\n",
    "            'PORT': '<db_port>',\n",
    "        }\n",
    "    }\n",
    "    ```\n",
    "5. before start django testing server, run service postgresql start"
   ]
  },
  {
   "cell_type": "markdown",
   "metadata": {},
   "source": [
    "# **Why do we add names to URLs and how do we access them dynamically**\n",
    "\n",
    "\n",
    "**From StackOverFlow:**\n",
    "\n",
    "Sometimes you want to name views so that you can refer to them by the name rather than by the url. That way, if the url changes in your app, you only need to update the code in one place (the urls.py module). Existing code, which used the name rather than the url hardcoded, does not need to be updated.\n",
    "\n",
    "For example, the reverse utility function accepts this name and returns the url:\n",
    "```python\n",
    "from django.urls import reverse\n",
    "reverse('bar')\n",
    "```\n",
    "If you do not make use of the name, moving a route is cumbersome - you need to find and update the urls throughout all the templates and the code.\n",
    "\n",
    "'''\n",
    "\\<a href=\"{% url 'urlname' %}\"\\>233\\<\\/\\>\n",
    "'''"
   ]
  },
  {
   "cell_type": "markdown",
   "metadata": {},
   "source": [
    "# **Where do we store templates?**\n",
    "\n",
    "1. Default structures\n",
    "2. settings.py and make changes to let Django where to find templates"
   ]
  },
  {
   "cell_type": "markdown",
   "metadata": {},
   "source": [
    "# **What do you know about Django templates?**\n",
    "\n",
    "1. Jinja\n",
    "2. the uses of the Jinja code.\n",
    "\n",
    "   1. Tags\n",
    "\n",
    "      1. Example {{ variable_name }} a placeholder for the variable\n",
    "      2. example\n",
    "         ```\n",
    "             {% for i in list%}\n",
    "             {{i}}\n",
    "             {% endfor %}\n",
    "         ```\n",
    "\n",
    "   2. Variables\n",
    "   3. Including {% include 'base/navbar.html'%} include another html elements into the current template, so we can use it\n",
    "   4. Inheriting {% extend 'base/layout.html'%}\n"
   ]
  },
  {
   "cell_type": "markdown",
   "metadata": {},
   "source": [
    "# **What are static files?**\n",
    "\n",
    "CSS files, JavaScript files, images. Any kind of static files"
   ]
  },
  {
   "cell_type": "markdown",
   "metadata": {},
   "source": [
    "# **How to configure media**\n",
    "\n",
    "Writing settings configurations in setting.py file\n",
    "``` python\n",
    "\n",
    "STATICFILES_DIRES=[\n",
    "    os.path.join(BASE_DIR,'static')\n",
    "]\n",
    "```"
   ]
  },
  {
   "cell_type": "markdown",
   "metadata": {},
   "source": [
    "# **What is MEDIA_ROOT**\n",
    "\n",
    "MEDIA_ROOT is the path to the root directory where the files are getting stored.\n",
    "\n",
    "Open settings.py file of your project and add the following configuration.\n",
    "\n",
    "```python\n",
    "\n",
    "# Base url to serve media files\n",
    "MEDIA_URL = '/media/'\n",
    "# Path where media is stored\n",
    "MEDIA_ROOT = os.path.join(BASE_DIR, 'media/')\n",
    "```\n",
    "MEDIA_URL is the URL that will serve the media files.\n",
    "\n",
    "During development, it doesn’t matter much as long it doesn’t conflict with any view of the apps. In production, uploaded files should be served from a different domain such as Amazon S3.\n",
    "\n",
    "MEDIA_ROOT is the path to the root directory where the files are getting stored."
   ]
  },
  {
   "cell_type": "markdown",
   "metadata": {},
   "source": [
    "# **What does python manage.py collectstatic do?**\n",
    "\n",
    "put all static files into STATIC_ROOT"
   ]
  },
  {
   "cell_type": "markdown",
   "metadata": {},
   "source": [
    "# **Serving static files during production**\n",
    "\n",
    "Django WhiteNoise\n",
    "\n",
    "Amazon S3"
   ]
  },
  {
   "cell_type": "markdown",
   "metadata": {},
   "source": [
    "# **Common Model Attributes**\n",
    "\n",
    "- Primary Key\n",
    "- Foreign Key, one to one relationship\n",
    "- Manytonmany, many to many relationship\n",
    "- fields\n"
   ]
  },
  {
   "cell_type": "markdown",
   "metadata": {},
   "source": [
    "# **Database querying**\n",
    "\n",
    "- Using Django ORM filter \n",
    "- Using SQL query"
   ]
  },
  {
   "cell_type": "markdown",
   "metadata": {},
   "source": [
    "# **CSRF**\n",
    "\n",
    "- What it is?\n",
    "- CSRF Tokens"
   ]
  },
  {
   "cell_type": "markdown",
   "metadata": {},
   "source": [
    "# **Model Form**\n",
    "\n",
    "using model to define a form in views."
   ]
  },
  {
   "cell_type": "markdown",
   "metadata": {},
   "source": [
    "# **Django Restful Framework**\n",
    "\n",
    "- What it is?\n",
    "  - Building APIs for front-end framework, like React, Vue, Angular...\n",
    "- How to use it?"
   ]
  },
  {
   "cell_type": "markdown",
   "metadata": {},
   "source": [
    "# **Django Signals**\n",
    "\n",
    "The Django Signals is a strategy to allow decoupled applications to get notified when certain events occur. Let’s say you want to invalidate a cached page everytime a given model instance is updated, but there are several places in your code base that this model can be updated. You can do that using signals, hooking some pieces of code to be executed everytime this specific model’s save method is trigged."
   ]
  },
  {
   "cell_type": "markdown",
   "metadata": {},
   "source": []
  },
  {
   "cell_type": "markdown",
   "metadata": {},
   "source": []
  },
  {
   "cell_type": "markdown",
   "metadata": {},
   "source": []
  }
 ],
 "metadata": {
  "interpreter": {
   "hash": "6a4eb00194bf710ba9f87c074a929faeb84277fb62d3ebccdc61473af9b15b21"
  },
  "kernelspec": {
   "display_name": "Python 3.8.7 64-bit",
   "name": "python3"
  },
  "language_info": {
   "codemirror_mode": {
    "name": "ipython",
    "version": 3
   },
   "file_extension": ".py",
   "mimetype": "text/x-python",
   "name": "python",
   "nbconvert_exporter": "python",
   "pygments_lexer": "ipython3",
   "version": "3.8.7"
  },
  "orig_nbformat": 4
 },
 "nbformat": 4,
 "nbformat_minor": 2
}
