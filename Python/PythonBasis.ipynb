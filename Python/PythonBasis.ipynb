{
 "cells": [
  {
   "cell_type": "markdown",
   "metadata": {},
   "source": [
    "**Generator**\n",
    "\n",
    " - iterable, \n",
    " - low mem cost comparing with list\n",
    "   - example list = [i*i for i in range(10000)]\n",
    "     - all numbers have been created\n",
    "   - example generator = (i*i for i in range(10000))\n",
    "     - only created when using generator. that is, we define a \"rule\" of using these numbers\n",
    "     - generator does not have len() function, because we just define a \"rule\" of creating numbers\n",
    "\n"
   ]
  },
  {
   "cell_type": "markdown",
   "metadata": {},
   "source": [
    "**Python Iterators**\n",
    "- An iterator is an object that contains a countable number of values.\n",
    "- An iterator is an object that can be iterated upon, meaning that you can traverse through all the values.\n",
    "- Technically, in Python, an iterator is an object which implements the iterator protocol, which consist of the methods ```__iter__()``` and ```__next__()```.\n",
    "\n",
    "**Create an Iterator**\n",
    "\n",
    "- To create an object/class as an iterator you have to implement the methods ```__iter__()``` and ```__next__()``` to your object.\n",
    "- As you have learned in the Python Classes/Objects chapter, all classes have a function called ```__init__()```, which allows you to do some initializing when the object is being created.\n",
    "- The ```__iter__()``` method acts similar, you can do operations (initializing etc.), but must always return the iterator object itself.\n",
    "- The ```__next__()``` method also allows you to do operations, and must return the next item in the sequence.\n",
    "\n",
    "**What is a Module?**\n",
    "\n",
    "- Consider a module to be the same as a code library.\n",
    "- A file containing a set of functions you want to include in your application.\n",
    "\n",
    "\n",
    "**Python JSON**\n",
    "\n",
    "\n",
    "```python\n",
    "import json\n",
    "\n",
    "# some JSON:\n",
    "x =  '{ \"name\":\"John\", \"age\":30, \"city\":\"New York\"}'\n",
    "\n",
    "# parse x:\n",
    "y = json.loads(x)\n",
    "\n",
    "# the result is a Python dictionary:\n",
    "print(y[\"age\"])\n",
    "\n",
    "\n",
    "# a Python object (dict):\n",
    "x = {\n",
    "  \"name\": \"John\",\n",
    "  \"age\": 30,\n",
    "  \"city\": \"New York\"\n",
    "}\n",
    "\n",
    "# convert into JSON:\n",
    "y = json.dumps(x)\n",
    "\n",
    "# the result is a JSON string:\n",
    "print(y)\n",
    "\n",
    "```\n",
    "\n",
    "\n",
    "**Python RegEx**\n",
    "\n",
    "```import re```\n"
   ]
  },
  {
   "cell_type": "markdown",
   "metadata": {},
   "source": [
    "**yield**\n",
    "\n",
    "  - yield will not kill or terminate the call stack of current function\n",
    "  - yield will tell the function to save the previous state and keep it open"
   ]
  },
  {
   "cell_type": "code",
   "execution_count": 1,
   "metadata": {},
   "outputs": [],
   "source": [
    "def my_generator(x=1):\n",
    "    while True:\n",
    "        yield x\n",
    "        x+=1"
   ]
  },
  {
   "cell_type": "code",
   "execution_count": 2,
   "metadata": {},
   "outputs": [
    {
     "data": {
      "text/plain": [
       "{3: 4, 1: 2, 5: 1}"
      ]
     },
     "execution_count": 2,
     "metadata": {},
     "output_type": "execute_result"
    }
   ],
   "source": [
    "# sort dictionary\n",
    "dic = {1:2,3:4,5:1}\n",
    "b = {k: v for k, v in sorted(dic.items(), key=lambda item: item[1], reverse=True)}\n",
    "b"
   ]
  },
  {
   "cell_type": "markdown",
   "metadata": {},
   "source": [
    "**Python Closure and Nested Function**\n",
    "\n",
    "**Nested Function**: A function defined inside another function is called a nested function. Nested functions can access variables of the enclosing scope.\n",
    "\n",
    "Example\n",
    "\n",
    "```python\n",
    "\n",
    "def make_multiplier_of(n):\n",
    "    def multiplier(x):\n",
    "        return x * n\n",
    "    return multiplier\n",
    "\n",
    "\n",
    "# Multiplier of 3\n",
    "times3 = make_multiplier_of(3)\n",
    "\n",
    "# Multiplier of 5\n",
    "times5 = make_multiplier_of(5)\n",
    "\n",
    "# Output: 27\n",
    "print(times3(9))\n",
    "\n",
    "# Output: 15\n",
    "print(times5(3))\n",
    "\n",
    "# Output: 30\n",
    "print(times5(times3(2)))\n",
    "\n",
    "```\n"
   ]
  },
  {
   "cell_type": "code",
   "execution_count": null,
   "metadata": {},
   "outputs": [
    {
     "name": "stdout",
     "output_type": "stream",
     "text": [
      "CANNOT DIVIDE\n"
     ]
    },
    {
     "data": {
      "text/plain": [
       "0"
      ]
     },
     "metadata": {},
     "output_type": "display_data"
    }
   ],
   "source": [
    "def check(func):\n",
    "    def inside(a,b):\n",
    "        if b==0:\n",
    "            print(\"CANNOT DIVIDE\")\n",
    "            return 0\n",
    "        func(a,b)\n",
    "\n",
    "    return inside\n",
    "@check\n",
    "def div(a,b):\n",
    "    return a/b\n",
    "\n",
    "div(3,0)"
   ]
  },
  {
   "cell_type": "code",
   "execution_count": null,
   "metadata": {},
   "outputs": [
    {
     "data": {
      "text/plain": [
       "'hello'"
      ]
     },
     "metadata": {},
     "output_type": "display_data"
    }
   ],
   "source": [
    "class hello:\n",
    "    pass\n",
    "\n",
    "h = hello()\n",
    "hello.__name__"
   ]
  },
  {
   "cell_type": "markdown",
   "metadata": {},
   "source": [
    "**Decorator**\n",
    "\n",
    "using another function to wrap the target function. this will bring extra functionality for the target function.\n",
    "\n",
    "\n",
    "```python\n",
    "\n",
    "def decorator(fun):\n",
    "    def inside(...):\n",
    "        pass\n",
    "    return inside\n",
    "\n",
    "@[decorator]\n",
    "def targetfunc(...):\n",
    "    pass\n",
    "\n",
    "```\n"
   ]
  },
  {
   "cell_type": "markdown",
   "metadata": {},
   "source": []
  },
  {
   "cell_type": "markdown",
   "metadata": {},
   "source": []
  },
  {
   "cell_type": "markdown",
   "metadata": {},
   "source": [
    "# **Threading**\n",
    "\n",
    "\n"
   ]
  },
  {
   "cell_type": "markdown",
   "metadata": {},
   "source": [
    "# **What Is the Python Global Interpreter Lock (GIL)**\n",
    "\n",
    "**Definition:**\n",
    "The Python Global Interpreter Lock or GIL, in simple words, is a mutex (or a lock) that allows only one thread to hold the control of the Python interpreter.\n",
    "\n",
    "IOBOUND\n"
   ]
  },
  {
   "cell_type": "markdown",
   "metadata": {},
   "source": []
  },
  {
   "cell_type": "markdown",
   "metadata": {},
   "source": []
  },
  {
   "cell_type": "markdown",
   "metadata": {},
   "source": [
    "**Array and List**\n",
    "\n",
    "线性表可扩容 长度不固定\n",
    "\n",
    "数组不可扩容 长度固定"
   ]
  },
  {
   "cell_type": "markdown",
   "metadata": {},
   "source": [
    "**Dictionary and Hashmap**\n",
    "\n",
    "in python"
   ]
  },
  {
   "cell_type": "markdown",
   "metadata": {},
   "source": [
    "Python array slice\n",
    "\n",
    "a[start:end:step]"
   ]
  },
  {
   "cell_type": "code",
   "execution_count": 2,
   "metadata": {},
   "outputs": [
    {
     "data": {
      "text/plain": [
       "[2, 3]"
      ]
     },
     "execution_count": 2,
     "metadata": {},
     "output_type": "execute_result"
    }
   ],
   "source": [
    "a=[1, 2, 3, 4, 5]\n",
    "a[1:3]"
   ]
  },
  {
   "cell_type": "code",
   "execution_count": 5,
   "metadata": {},
   "outputs": [
    {
     "name": "stdout",
     "output_type": "stream",
     "text": [
      "['12312', '312', '3', 'sre', 'as', 'fasd', 'r23', '412', '3', 'sdfg', 'saf', 'dasfas', 'dfs', 'dasfasasdf', 'assign']\n"
     ]
    }
   ],
   "source": [
    "# how to read file?\n",
    "\n",
    "f=open(\"test.txt\")\n",
    "lines = [l.replace(\"\\n\",\"\") for l in f.readlines()]\n",
    "print(lines)"
   ]
  },
  {
   "cell_type": "markdown",
   "metadata": {},
   "source": []
  },
  {
   "cell_type": "code",
   "execution_count": null,
   "metadata": {},
   "outputs": [],
   "source": []
  },
  {
   "cell_type": "code",
   "execution_count": 30,
   "metadata": {},
   "outputs": [],
   "source": [
    "from collections import defaultdict\n",
    "\n",
    "\n",
    "def subarraySum(nums, k):\n",
    "    count = curr_sum = 0\n",
    "    h = defaultdict(int)\n",
    "\n",
    "    for num in nums:\n",
    "\n",
    "        # current prefix sum\n",
    "        curr_sum += num\n",
    "\n",
    "        # situation 1:\n",
    "        # continuous subarray starts\n",
    "        # from the beginning of the array\n",
    "        if curr_sum == k:\n",
    "            count += 1\n",
    "\n",
    "        # situation 2:\n",
    "        # number of times the curr_sum − k has occurred already,\n",
    "        # determines the number of times a subarray with sum k\n",
    "        # has occurred up to the current index\n",
    "        print(\"before \",count)\n",
    "        # this statement is very tricky. the defaultdict(int) declare above, if the key value is not exist, it will insert a key with 0. so here if the curr_sum-k does not exist, it will add the new value 0, it will not affect the value. \n",
    "        # if curr_sem-k exist in the dictionary, then the count+1, why? \n",
    "        # As known to all, a+b=c, if we know any two numbers of abc, we can know the third one. Here, the current sum is from head to current number, if current sum - K exists, then K must exist\n",
    "        count += h[curr_sum - k]\n",
    "        print(\"after \",count)\n",
    "        print(\"curr_sum \",curr_sum)\n",
    "\n",
    "        print(\"h[curr_sum - k] \",h[curr_sum - k])\n",
    "        # add the current sum\n",
    "        h[curr_sum] += 1\n",
    "        print(h)\n",
    "        print(\"count is \",count)\n",
    "        print()\n",
    "    return count\n"
   ]
  },
  {
   "cell_type": "code",
   "execution_count": 31,
   "metadata": {},
   "outputs": [
    {
     "name": "stdout",
     "output_type": "stream",
     "text": [
      "before  0\n",
      "after  0\n",
      "curr_sum  1\n",
      "h[curr_sum - k]  0\n",
      "defaultdict(<class 'int'>, {-5: 0, 1: 1})\n",
      "count is  0\n",
      "\n",
      "before  0\n",
      "after  0\n",
      "curr_sum  3\n",
      "h[curr_sum - k]  0\n",
      "defaultdict(<class 'int'>, {-5: 0, 1: 1, -3: 0, 3: 1})\n",
      "count is  0\n",
      "\n",
      "before  0\n",
      "after  0\n",
      "curr_sum  4\n",
      "h[curr_sum - k]  0\n",
      "defaultdict(<class 'int'>, {-5: 0, 1: 1, -3: 0, 3: 1, -2: 0, 4: 1})\n",
      "count is  0\n",
      "\n",
      "before  1\n",
      "after  1\n",
      "curr_sum  6\n",
      "h[curr_sum - k]  0\n",
      "defaultdict(<class 'int'>, {-5: 0, 1: 1, -3: 0, 3: 1, -2: 0, 4: 1, 0: 0, 6: 1})\n",
      "count is  1\n",
      "\n",
      "before  1\n",
      "after  2\n",
      "curr_sum  9\n",
      "h[curr_sum - k]  1\n",
      "defaultdict(<class 'int'>, {-5: 0, 1: 1, -3: 0, 3: 1, -2: 0, 4: 1, 0: 0, 6: 1, 9: 1})\n",
      "count is  2\n",
      "\n",
      "before  2\n",
      "after  2\n",
      "curr_sum  13\n",
      "h[curr_sum - k]  0\n",
      "defaultdict(<class 'int'>, {-5: 0, 1: 1, -3: 0, 3: 1, -2: 0, 4: 1, 0: 0, 6: 1, 9: 1, 7: 0, 13: 1})\n",
      "count is  2\n",
      "\n"
     ]
    },
    {
     "data": {
      "text/plain": [
       "2"
      ]
     },
     "execution_count": 31,
     "metadata": {},
     "output_type": "execute_result"
    }
   ],
   "source": [
    "subarraySum([1,2,1,2,3,4], 6)"
   ]
  },
  {
   "cell_type": "code",
   "execution_count": 32,
   "metadata": {},
   "outputs": [],
   "source": [
    "import numpy as np\n",
    "b = np.random.uniform()"
   ]
  },
  {
   "cell_type": "code",
   "execution_count": 33,
   "metadata": {},
   "outputs": [
    {
     "data": {
      "text/plain": [
       "0.6025797055535487"
      ]
     },
     "execution_count": 33,
     "metadata": {},
     "output_type": "execute_result"
    }
   ],
   "source": [
    "b"
   ]
  },
  {
   "cell_type": "code",
   "execution_count": 34,
   "metadata": {},
   "outputs": [
    {
     "data": {
      "text/plain": [
       "0.603"
      ]
     },
     "execution_count": 34,
     "metadata": {},
     "output_type": "execute_result"
    }
   ],
   "source": [
    "round(b,3)"
   ]
  },
  {
   "cell_type": "code",
   "execution_count": 35,
   "metadata": {},
   "outputs": [
    {
     "data": {
      "text/plain": [
       "float"
      ]
     },
     "execution_count": 35,
     "metadata": {},
     "output_type": "execute_result"
    }
   ],
   "source": [
    "type(b)"
   ]
  },
  {
   "cell_type": "code",
   "execution_count": 38,
   "metadata": {},
   "outputs": [
    {
     "name": "stdout",
     "output_type": "stream",
     "text": [
      "6 3\n",
      "14 5\n",
      "24 7\n",
      "36 9\n",
      "50 11\n",
      "66 13\n"
     ]
    },
    {
     "data": {
      "text/plain": [
       "66"
      ]
     },
     "execution_count": 38,
     "metadata": {},
     "output_type": "execute_result"
    }
   ],
   "source": [
    "# 一行代码实现对列表a中的偶数位置的元素进行加3后求和\n",
    "def q2(data):\n",
    "    s = 0\n",
    "    for i in range(2,len(data),2):\n",
    "        s+=(3+data[i])\n",
    "        print(s,data[i])\n",
    "    return s\n",
    "test = [1,2,3,4,5,6,7,8,9,10,11,12,13,14]\n",
    "q2(test)"
   ]
  },
  {
   "cell_type": "code",
   "execution_count": 43,
   "metadata": {},
   "outputs": [
    {
     "data": {
      "text/plain": [
       "['cherry', 'banana', 'apple']"
      ]
     },
     "execution_count": 43,
     "metadata": {},
     "output_type": "execute_result"
    }
   ],
   "source": [
    "import random\n",
    "\n",
    "mylist = [\"apple\", \"banana\", \"cherry\"]\n",
    "random.shuffle(mylist)\n",
    "mylist"
   ]
  },
  {
   "cell_type": "code",
   "execution_count": 46,
   "metadata": {},
   "outputs": [
    {
     "data": {
      "text/plain": [
       "{'12312': 1,\n",
       " '312': 1,\n",
       " '3': 2,\n",
       " 'sre': 1,\n",
       " 'as': 1,\n",
       " 'fasd': 1,\n",
       " 'r23': 1,\n",
       " '412': 1,\n",
       " 'sdfg': 1,\n",
       " 'saf': 1,\n",
       " 'dasfas': 1,\n",
       " 'dfs': 1,\n",
       " 'dasfasasdf': 1,\n",
       " 'assign': 1}"
      ]
     },
     "execution_count": 46,
     "metadata": {},
     "output_type": "execute_result"
    }
   ],
   "source": [
    "f = open(\"test.txt\")\n",
    "lines = f.readlines()\n",
    "fre = {}\n",
    "for i in range(len(lines)):\n",
    "    words = lines[i].replace(\"\\n\",\"\").split()\n",
    "    for w in words:\n",
    "        if w not in fre:\n",
    "            fre[w]=1\n",
    "        else:\n",
    "            fre[w]+=1\n",
    "fre\n"
   ]
  },
  {
   "cell_type": "code",
   "execution_count": 48,
   "metadata": {},
   "outputs": [
    {
     "data": {
      "text/plain": [
       "'12312\\n312\\n3\\nsre\\nas\\nfasd\\nr23\\n412\\n3\\nsdfg\\nsaf\\ndasfas\\ndfs\\ndasfasasdf\\nassign'"
      ]
     },
     "execution_count": 48,
     "metadata": {},
     "output_type": "execute_result"
    }
   ],
   "source": [
    "f = open(\"test.txt\")\n",
    "f.read()"
   ]
  },
  {
   "cell_type": "code",
   "execution_count": null,
   "metadata": {},
   "outputs": [],
   "source": [
    "\n",
    "shi"
   ]
  }
 ],
 "metadata": {
  "interpreter": {
   "hash": "cc5f70855ac006f3de45a3cc3b9e7d8d53845e50458809cb162b0174266dec97"
  },
  "kernelspec": {
   "display_name": "Python 3.8.8 64-bit ('base': conda)",
   "name": "python3"
  },
  "language_info": {
   "codemirror_mode": {
    "name": "ipython",
    "version": 3
   },
   "file_extension": ".py",
   "mimetype": "text/x-python",
   "name": "python",
   "nbconvert_exporter": "python",
   "pygments_lexer": "ipython3",
   "version": "3.8.8"
  },
  "orig_nbformat": 4
 },
 "nbformat": 4,
 "nbformat_minor": 2
}
