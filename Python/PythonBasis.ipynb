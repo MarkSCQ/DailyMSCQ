{
 "cells": [
  {
   "cell_type": "markdown",
   "metadata": {},
   "source": [
    "**Generator**\n",
    "\n",
    " - iterable, \n",
    " - low mem cost comparing with list\n",
    "   - example list = [i*i for i in range(10000)]\n",
    "     - all numbers have been created\n",
    "   - example generator = (i*i for i in range(10000))\n",
    "     - only created when using generator. that is, we define a \"rule\" of using these numbers\n",
    "     - generator does not have len() function, because we just define a \"rule\" of creating numbers\n",
    "\n"
   ]
  },
  {
   "cell_type": "markdown",
   "metadata": {},
   "source": [
    "**Python Iterators**\n",
    "- An iterator is an object that contains a countable number of values.\n",
    "- An iterator is an object that can be iterated upon, meaning that you can traverse through all the values.\n",
    "- Technically, in Python, an iterator is an object which implements the iterator protocol, which consist of the methods ```__iter__()``` and ```__next__()```.\n",
    "\n",
    "**Create an Iterator**\n",
    "\n",
    "- To create an object/class as an iterator you have to implement the methods ```__iter__()``` and ```__next__()``` to your object.\n",
    "- As you have learned in the Python Classes/Objects chapter, all classes have a function called ```__init__()```, which allows you to do some initializing when the object is being created.\n",
    "- The ```__iter__()``` method acts similar, you can do operations (initializing etc.), but must always return the iterator object itself.\n",
    "- The ```__next__()``` method also allows you to do operations, and must return the next item in the sequence.\n",
    "\n",
    "**What is a Module?**\n",
    "\n",
    "- Consider a module to be the same as a code library.\n",
    "- A file containing a set of functions you want to include in your application.\n",
    "\n",
    "\n",
    "**Python JSON**\n",
    "\n",
    "\n",
    "```python\n",
    "import json\n",
    "\n",
    "# some JSON:\n",
    "x =  '{ \"name\":\"John\", \"age\":30, \"city\":\"New York\"}'\n",
    "\n",
    "# parse x:\n",
    "y = json.loads(x)\n",
    "\n",
    "# the result is a Python dictionary:\n",
    "print(y[\"age\"])\n",
    "\n",
    "\n",
    "# a Python object (dict):\n",
    "x = {\n",
    "  \"name\": \"John\",\n",
    "  \"age\": 30,\n",
    "  \"city\": \"New York\"\n",
    "}\n",
    "\n",
    "# convert into JSON:\n",
    "y = json.dumps(x)\n",
    "\n",
    "# the result is a JSON string:\n",
    "print(y)\n",
    "\n",
    "```\n",
    "\n",
    "\n",
    "**Python RegEx**\n",
    "\n",
    "```import re```\n"
   ]
  },
  {
   "cell_type": "markdown",
   "metadata": {},
   "source": [
    "**yield**\n",
    "\n",
    "  - yield will not kill or terminate the call stack of current function\n",
    "  - yield will tell the function to save the previous state and keep it open"
   ]
  },
  {
   "cell_type": "code",
   "execution_count": 1,
   "metadata": {},
   "outputs": [],
   "source": [
    "def my_generator(x=1):\n",
    "    while True:\n",
    "        yield x\n",
    "        x+=1"
   ]
  },
  {
   "cell_type": "code",
   "execution_count": 2,
   "metadata": {},
   "outputs": [
    {
     "data": {
      "text/plain": [
       "{3: 4, 1: 2, 5: 1}"
      ]
     },
     "execution_count": 2,
     "metadata": {},
     "output_type": "execute_result"
    }
   ],
   "source": [
    "# sort dictionary\n",
    "dic = {1:2,3:4,5:1}\n",
    "b = {k: v for k, v in sorted(dic.items(), key=lambda item: item[1], reverse=True)}\n",
    "b"
   ]
  },
  {
   "cell_type": "markdown",
   "metadata": {},
   "source": [
    "**Python Closure and Nested Function**\n",
    "\n",
    "**Nested Function**: A function defined inside another function is called a nested function. Nested functions can access variables of the enclosing scope.\n",
    "\n",
    "Example\n",
    "\n",
    "```python\n",
    "\n",
    "def make_multiplier_of(n):\n",
    "    def multiplier(x):\n",
    "        return x * n\n",
    "    return multiplier\n",
    "\n",
    "\n",
    "# Multiplier of 3\n",
    "times3 = make_multiplier_of(3)\n",
    "\n",
    "# Multiplier of 5\n",
    "times5 = make_multiplier_of(5)\n",
    "\n",
    "# Output: 27\n",
    "print(times3(9))\n",
    "\n",
    "# Output: 15\n",
    "print(times5(3))\n",
    "\n",
    "# Output: 30\n",
    "print(times5(times3(2)))\n",
    "\n",
    "```\n"
   ]
  },
  {
   "cell_type": "code",
   "execution_count": null,
   "metadata": {},
   "outputs": [
    {
     "name": "stdout",
     "output_type": "stream",
     "text": [
      "CANNOT DIVIDE\n"
     ]
    },
    {
     "data": {
      "text/plain": [
       "0"
      ]
     },
     "metadata": {},
     "output_type": "display_data"
    }
   ],
   "source": [
    "def check(func):\n",
    "    def inside(a,b):\n",
    "        if b==0:\n",
    "            print(\"CANNOT DIVIDE\")\n",
    "            return 0\n",
    "        func(a,b)\n",
    "\n",
    "    return inside\n",
    "@check\n",
    "def div(a,b):\n",
    "    return a/b\n",
    "\n",
    "div(3,0)"
   ]
  },
  {
   "cell_type": "code",
   "execution_count": null,
   "metadata": {},
   "outputs": [
    {
     "data": {
      "text/plain": [
       "'hello'"
      ]
     },
     "metadata": {},
     "output_type": "display_data"
    }
   ],
   "source": [
    "class hello:\n",
    "    pass\n",
    "\n",
    "h = hello()\n",
    "hello.__name__"
   ]
  },
  {
   "cell_type": "markdown",
   "metadata": {},
   "source": [
    "**Decorator**\n",
    "\n",
    "using another function to wrap the target function. this will bring extra functionality for the target function.\n",
    "\n",
    "\n",
    "```python\n",
    "\n",
    "def decorator(fun):\n",
    "    def inside(...):\n",
    "        pass\n",
    "    return inside\n",
    "\n",
    "@[decorator]\n",
    "def targetfunc(...):\n",
    "    pass\n",
    "\n",
    "```\n"
   ]
  }
 ],
 "metadata": {
  "interpreter": {
   "hash": "cc5f70855ac006f3de45a3cc3b9e7d8d53845e50458809cb162b0174266dec97"
  },
  "kernelspec": {
   "display_name": "Python 3.8.8 64-bit ('base': conda)",
   "name": "python3"
  },
  "language_info": {
   "codemirror_mode": {
    "name": "ipython",
    "version": 3
   },
   "file_extension": ".py",
   "mimetype": "text/x-python",
   "name": "python",
   "nbconvert_exporter": "python",
   "pygments_lexer": "ipython3",
   "version": "3.8.8"
  },
  "orig_nbformat": 4
 },
 "nbformat": 4,
 "nbformat_minor": 2
}
