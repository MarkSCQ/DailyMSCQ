{
 "cells": [
  {
   "cell_type": "code",
   "execution_count": 35,
   "metadata": {},
   "outputs": [],
   "source": [
    "def func(f):\n",
    "    def wrapper():\n",
    "        print(\"start\")\n",
    "        f()\n",
    "        print(\"end\")\n",
    "    return wrapper \n",
    "\n",
    "def funcW1(f):\n",
    "    def wrapper():\n",
    "        print(\"funcW1 start\")\n",
    "        f()\n",
    "        print(\"funcW1 end\")\n",
    "    return wrapper "
   ]
  },
  {
   "cell_type": "code",
   "execution_count": 36,
   "metadata": {},
   "outputs": [],
   "source": [
    "def func2():\n",
    "    print(\"this is func2\")"
   ]
  },
  {
   "cell_type": "code",
   "execution_count": 37,
   "metadata": {},
   "outputs": [],
   "source": [
    "@func\n",
    "@funcW1\n",
    "def func3():\n",
    "    print(\"this is func3\")"
   ]
  },
  {
   "cell_type": "code",
   "execution_count": 38,
   "metadata": {},
   "outputs": [
    {
     "name": "stdout",
     "output_type": "stream",
     "text": [
      "start\n",
      "funcW1 start\n",
      "this is func3\n",
      "funcW1 end\n",
      "end\n"
     ]
    }
   ],
   "source": [
    "func3()\n",
    "# ! if calling several decorator"
   ]
  },
  {
   "cell_type": "code",
   "execution_count": 39,
   "metadata": {},
   "outputs": [],
   "source": [
    "import time\n",
    "def timer(func):\n",
    "    def wrapper(*args, **kwargs):\n",
    "        start = time.time()\n",
    "        rv = func()\n",
    "        end  = time.time()\n",
    "        print(\"Total \",end-start)\n",
    "\n",
    "        return rv\n",
    "    return wrapper"
   ]
  },
  {
   "cell_type": "code",
   "execution_count": 40,
   "metadata": {},
   "outputs": [
    {
     "name": "stdout",
     "output_type": "stream",
     "text": [
      "Total  0.035985708236694336\n"
     ]
    }
   ],
   "source": [
    "@timer\n",
    "def testfun(): \n",
    "    for i in range(1000000):\n",
    "        continue\n",
    "\n",
    "testfun()\n"
   ]
  },
  {
   "cell_type": "code",
   "execution_count": 41,
   "metadata": {},
   "outputs": [
    {
     "name": "stdout",
     "output_type": "stream",
     "text": [
      "1231234124\n",
      "1231234124\n",
      "1231234124\n",
      "division by zero\n",
      "33333\n",
      "2222\n",
      "1231234124\n",
      "1231234124\n",
      "1231234124\n"
     ]
    }
   ],
   "source": [
    "def test2():\n",
    "    print(1231234124)\n",
    "    print(1231234124)\n",
    "    print(1231234124)\n",
    "    try:\n",
    "        a=1/0\n",
    "    except Exception as e:\n",
    "        print(e)\n",
    "    finally:\n",
    "        print(33333)\n",
    "        print(2222)\n",
    "    print(1231234124)\n",
    "    print(1231234124)\n",
    "    print(1231234124)\n",
    "test2()"
   ]
  },
  {
   "cell_type": "code",
   "execution_count": 43,
   "metadata": {},
   "outputs": [
    {
     "ename": "AssertionError",
     "evalue": "",
     "output_type": "error",
     "traceback": [
      "\u001b[1;31m---------------------------------------------------------------------------\u001b[0m",
      "\u001b[1;31mAssertionError\u001b[0m                            Traceback (most recent call last)",
      "\u001b[1;32m<ipython-input-43-315de63a4fe4>\u001b[0m in \u001b[0;36m<module>\u001b[1;34m\u001b[0m\n\u001b[1;32m----> 1\u001b[1;33m \u001b[1;32massert\u001b[0m\u001b[1;33m(\u001b[0m\u001b[1;32mTrue\u001b[0m \u001b[1;32mis\u001b[0m \u001b[1;32mFalse\u001b[0m\u001b[1;33m)\u001b[0m\u001b[1;33m\u001b[0m\u001b[1;33m\u001b[0m\u001b[0m\n\u001b[0m\u001b[0;32m      2\u001b[0m \u001b[0mprint\u001b[0m\u001b[1;33m(\u001b[0m\u001b[1;34m\"asdf\"\u001b[0m\u001b[1;33m)\u001b[0m\u001b[1;33m\u001b[0m\u001b[1;33m\u001b[0m\u001b[0m\n",
      "\u001b[1;31mAssertionError\u001b[0m: "
     ]
    }
   ],
   "source": [
    "assert(True is False)\n",
    "print(\"asdf\")"
   ]
  },
  {
   "cell_type": "code",
   "execution_count": null,
   "metadata": {},
   "outputs": [
    {
     "name": "stdout",
     "output_type": "stream",
     "text": [
      "SDF\n"
     ]
    }
   ],
   "source": [
    "try:\n",
    "    x=1/1\n",
    "except Exception:\n",
    "    print(\"EEE \",Exception)\n",
    "else:\n",
    "    print(\"SDF\")"
   ]
  },
  {
   "cell_type": "code",
   "execution_count": null,
   "metadata": {},
   "outputs": [],
   "source": [
    "import asyncio"
   ]
  },
  {
   "cell_type": "code",
   "execution_count": null,
   "metadata": {},
   "outputs": [],
   "source": []
  },
  {
   "cell_type": "code",
   "execution_count": null,
   "metadata": {},
   "outputs": [],
   "source": []
  },
  {
   "cell_type": "markdown",
   "metadata": {},
   "source": [
    "- 线程在进程下行进（单纯的车厢无法运行）\n",
    "- 一个进程可以包含多个线程（一辆火车可以有多个车厢）\n",
    "- 不同进程间数据很难共享（一辆火车上的乘客很难换到另外一辆火车，比如站点换乘）\n",
    "- 同一进程下不同线程间数据很易共享（A车厢换到B车厢很容易）\n",
    "- 进程要比线程消耗更多的计算机资源（采用多列火车相比多个车厢更耗资源）\n",
    "- 进程间不会相互影响，一个线程挂掉将导致整个进程挂掉（一列火车不会影响到另外一列火车，但是如果一列火车上中间的一节车厢着火了，将影响到所有车厢）\n",
    "- 进程可以拓展到多机，进程最多适合多核（不同火车可以开在多个轨道上，同一火车的车厢不能在行进的不同的轨道上）\n",
    "- 进程使用的内存地址可以上锁，即一个线程使用某些共享内存时，其他线程必须等它结束，才能使用这一块内存。（比如火车上的洗手间）－\"互斥锁\"\n",
    "- 进程使用的内存地址可以限定使用量（比如火车上的餐厅，最多只允许多少人进入，如果满了需要在门口等，等有人出来了才能进去）－“信号量”\n"
   ]
  },
  {
   "cell_type": "markdown",
   "metadata": {},
   "source": [
    "Django \n",
    "\n",
    "MySQL\n",
    "\n",
    "linux 常考命令\n",
    "\n",
    "TCP、HTTP \n",
    "- 这两个协议是啥\n",
    "- 哪里用得到\n",
    "- Http Https 区别    \n",
    "- 握手 挥手是什么"
   ]
  },
  {
   "cell_type": "markdown",
   "metadata": {},
   "source": [
    "# 单例模式\n",
    "\n",
    "1. 什么是单例?\n",
    "2. 单例优缺点\n",
    "3. "
   ]
  }
 ],
 "metadata": {
  "interpreter": {
   "hash": "cc5f70855ac006f3de45a3cc3b9e7d8d53845e50458809cb162b0174266dec97"
  },
  "kernelspec": {
   "display_name": "Python 3.8.8 64-bit ('base': conda)",
   "name": "python3"
  },
  "language_info": {
   "codemirror_mode": {
    "name": "ipython",
    "version": 3
   },
   "file_extension": ".py",
   "mimetype": "text/x-python",
   "name": "python",
   "nbconvert_exporter": "python",
   "pygments_lexer": "ipython3",
   "version": "3.8.8"
  },
  "orig_nbformat": 4
 },
 "nbformat": 4,
 "nbformat_minor": 2
}
