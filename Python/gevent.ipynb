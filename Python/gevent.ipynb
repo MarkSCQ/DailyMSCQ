{
 "cells": [
  {
   "cell_type": "markdown",
   "metadata": {},
   "source": [
    "进程：进程是正在运行的程序的实例。独立的地址空间，是操作系统资源分配的基本单位。\n",
    "\n"
   ]
  }
 ],
 "metadata": {
  "language_info": {
   "name": "python"
  },
  "orig_nbformat": 4
 },
 "nbformat": 4,
 "nbformat_minor": 2
}
