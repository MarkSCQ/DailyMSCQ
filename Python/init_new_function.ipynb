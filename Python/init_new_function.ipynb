{
 "cells": [
  {
   "cell_type": "code",
   "execution_count": null,
   "metadata": {},
   "outputs": [],
   "source": []
  },
  {
   "cell_type": "markdown",
   "metadata": {},
   "source": [
    "`__init__()` and `__new__()`\n",
    "\n",
    "- `__new__()` got called first to create object. `__init__()` got called after `__new__()` to assign values\n",
    "- `__new__()`, always remember to give it a return to return the created object\n"
   ]
  },
  {
   "cell_type": "code",
   "execution_count": null,
   "metadata": {},
   "outputs": [
    {
     "name": "stdout",
     "output_type": "stream",
     "text": [
      "new <class '__main__.A'> (1, 2, 3) {'x': 4}\n",
      "init <__main__.A object at 0x000002D1A4953190> (1, 2, 3) {'x': 4}\n",
      "init <__main__.A object at 0x000002D1A4953190> (1, 2, 3) {'x': 4}\n"
     ]
    }
   ],
   "source": [
    "class A:\n",
    "    def __new__(cls, *args, **kwargs):\n",
    "        print('new', cls, args, kwargs)\n",
    "        return super().__new__(cls)\n",
    "\n",
    "    def __init__(cls, *args, **kwargs):\n",
    "        print('init', cls, args, kwargs)\n",
    "\n",
    "\n",
    "def how_object_construction_works():\n",
    "    x = A(1, 2, 3, x=4)\n",
    "    x = A.__new__(A, *args, **kwargs)\n",
    "    if isinstance(x, A):\n",
    "        type(x).__init__(x,1,2,3,x)    \n",
    "\n",
    "how_object_construction_works()\n"
   ]
  },
  {
   "cell_type": "code",
   "execution_count": null,
   "metadata": {},
   "outputs": [
    {
     "name": "stdout",
     "output_type": "stream",
     "text": [
      "UPPERCASE TUPLE EXAMPLE\n",
      "('ADSFASI', 'ZXCVZXCV')\n"
     ]
    }
   ],
   "source": [
    "# example of using init and new\n",
    "class UppercaseTuple(tuple):\n",
    "\n",
    "    # this will cause errors because we cannot change the existing object, the changing step put inside __init__() function is too lage\n",
    "    # TypeError: 'UppercaseTuple' object does not support item assignment\n",
    "    #   def __init__(self,interable):\n",
    "    #     print(f'init {interable}')\n",
    "    #     for i,arg in enumerate(interable):\n",
    "    #         self[i]=arg.upper()\n",
    "\n",
    "    def __new__(cls,iterable):\n",
    "        upper_iterable = (s.upper() for s in iterable)\n",
    "        return super().__new__(cls, upper_iterable)\n",
    "\n",
    "\n",
    "def inheriting_immutable_uppercase_tuple_example():\n",
    "    print(\"UPPERCASE TUPLE EXAMPLE\")\n",
    "    print(UppercaseTuple([\"adsfasi\", \"zxcvzxcv\"]))\n",
    "\n",
    "# UPPERCASE TUPLE EXAMPLE\n",
    "# ('ADSFASI', 'ZXCVZXCV')\n",
    "inheriting_immutable_uppercase_tuple_example()\n"
   ]
  },
  {
   "cell_type": "code",
   "execution_count": null,
   "metadata": {},
   "outputs": [],
   "source": [
    "# Singleton example\n",
    "\n",
    "class Singleton:\n",
    "    _instance=None\n",
    "    def __new"
   ]
  }
 ],
 "metadata": {
  "language_info": {
   "name": "python"
  },
  "orig_nbformat": 4
 },
 "nbformat": 4,
 "nbformat_minor": 2
}
